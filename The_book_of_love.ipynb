{
 "cells": [
  {
   "cell_type": "code",
   "execution_count": 13,
   "metadata": {},
   "outputs": [],
   "source": [
    "from fpdf import FPDF #imports\n",
    "import os\n",
    "\n",
    "#pdf object\n",
    "pdf = FPDF('P', 'mm', format='A4')\n",
    "pdf.set_author(\"Jasper Venter\");\n",
    "pdf.set_title(\"The book of love.\");\n",
    "\n",
    "# Set Page numbers\n",
    "\n",
    "'''COVER'''\n",
    "\n",
    "#variable for heart repetition\n",
    "heart_01 = '<3' * 50\n",
    "\n",
    "#create the first parameters for the cover\n",
    "pdf.add_page() \n",
    "pdf.set_font('times', '', 15)\n",
    "\n",
    "#position the two lines of heart repetition\n",
    "pdf.set_xy(10, 10)\n",
    "pdf.multi_cell(0, 0, txt=heart_01, align='C')\n",
    "pdf.set_xy(10, 275)\n",
    "pdf.multi_cell(0, 0, txt=heart_01, align='C')\n",
    "\n",
    "#add Title\n",
    "pdf.set_font('times', '', 30)\n",
    "pdf.set_fill_color(0, 0, 0)\n",
    "pdf.set_text_color(124,252,0)\n",
    "pdf.set_xy(60, 20)\n",
    "pdf.cell(90, 30, \"The book of love\", 1 , 0, \"C\", True)\n",
    "pdf.ln()\n",
    "\n",
    "#add first header\n",
    "pdf.set_font(\"times\", \"I\", 20)\n",
    "pdf.set_xy(20, 200)\n",
    "pdf.multi_cell(w=100, h=10, txt='A great source of love and power when feeling lonely.\\nEnjoy!', align='L', fill=True)\n",
    "pdf.ln()\n",
    "\n",
    "#add the Author\n",
    "pdf.set_font(\"times\", \"I\", 15)\n",
    "pdf.set_xy(110, 250)\n",
    "pdf.multi_cell(w=40, h=7, txt='Made with love\\nby Jasper Venter', align='R', fill=True)\n",
    "pdf.ln()\n",
    "\n",
    "\n"
   ]
  },
  {
   "cell_type": "code",
   "execution_count": 14,
   "metadata": {},
   "outputs": [],
   "source": [
    "'''BODY'''\n",
    "\n",
    "# Data for the Text\n",
    "text = 'I l' + 'o' * 15700\n",
    "text += 've you.'\n",
    "\n",
    "'''i was trying to add the \"I\" to the next line \n",
    "(i was trying it forever in many differrent ways, \n",
    "but it doesn't work, just wanted to keep the code) '''\n",
    "# index = text.find('l')\n",
    "# final_string = text[:index] + ' ' + text[index:]\n",
    "\n",
    "# Set parameters for the first chapter.\n",
    "pdf.set_font(\"times\", \"IU\")\n",
    "pdf.add_page()\n",
    "\n",
    "# Create title for first chapter.\n",
    "pdf.set_xy(60, 10)\n",
    "pdf.set_font_size(20)\n",
    "pdf.set_text_color(0, 0, 0)\n",
    "pdf.cell(90, 30, 'Chapter 1: \"LOVE\"', 0 , 0, \"C\", False)\n",
    "pdf.ln()\n",
    "\n",
    "# insert the text.\n",
    "pdf.set_font(\"times\", \"\", 17)\n",
    "pdf.multi_cell(0, 5, txt=text)\n",
    "pdf.ln()"
   ]
  },
  {
   "cell_type": "code",
   "execution_count": 15,
   "metadata": {},
   "outputs": [
    {
     "data": {
      "text/plain": [
       "False"
      ]
     },
     "execution_count": 15,
     "metadata": {},
     "output_type": "execute_result"
    }
   ],
   "source": [
    "# Create the last page.\n",
    "pdf.set_title(\"The End\");\n",
    "pdf.add_page()\n",
    "\n",
    "##position the two lines of heart repetition.\n",
    "pdf.set_font('times', '', 15)\n",
    "pdf.set_xy(10, 10)\n",
    "pdf.multi_cell(0, 0, txt=heart_01, align='C')\n",
    "\n",
    "# Add \"The End\" and some sweet finishing quote.\n",
    "pdf.set_font(\"Courier\", \"I\", 24)\n",
    "pdf.set_fill_color(124,252,0)\n",
    "pdf.set_xy(0, 20)\n",
    "pdf.cell(0, 50, \"The End\", 0, 0, \"C\")\n",
    "pdf.set_font(\"times\", \"I\", 17) #set Font\n",
    "pdf.set_xy(10, 200)\n",
    "pdf.cell(0, 20, \"Never stop loving.\", 0, 0, \"C\", fill=True)\n",
    "pdf.ln()\n",
    "pdf.set_xy(10, 275)\n",
    "pdf.multi_cell(0, 0, txt=heart_01, align='C')"
   ]
  },
  {
   "cell_type": "code",
   "execution_count": 16,
   "metadata": {},
   "outputs": [],
   "source": [
    "# EXPORT:\n",
    "\n",
    "'''I was saving it like this because you can then \n",
    "open it in the browser and refresh it everytime you change something\n",
    "(so i don't need to open another PDF all the time.'''\n",
    "\n",
    "#path = 'generated_pdfs/'\n",
    "#filename = '010.pdf'\n",
    "#pdf.output(path + filename)\n",
    "\n",
    "pdf.output('001.pdf')"
   ]
  }
 ],
 "metadata": {
  "interpreter": {
   "hash": "5b5e51aa45cbcd3bdf871bfe900c9b55d1a37b89d9432f233bf9a6eb56d4e899"
  },
  "kernelspec": {
   "display_name": "Python 3.9.7 64-bit ('pbwp_4103': conda)",
   "language": "python",
   "name": "python3"
  },
  "language_info": {
   "codemirror_mode": {
    "name": "ipython",
    "version": 3
   },
   "file_extension": ".py",
   "mimetype": "text/x-python",
   "name": "python",
   "nbconvert_exporter": "python",
   "pygments_lexer": "ipython3",
   "version": "3.9.7"
  },
  "orig_nbformat": 4
 },
 "nbformat": 4,
 "nbformat_minor": 2
}
